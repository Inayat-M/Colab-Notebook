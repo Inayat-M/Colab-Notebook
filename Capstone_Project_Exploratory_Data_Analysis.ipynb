{
  "nbformat": 4,
  "nbformat_minor": 0,
  "metadata": {
    "colab": {
      "private_outputs": true,
      "provenance": [],
      "collapsed_sections": [
        "mDgbUHAGgjLW",
        "3RnN4peoiCZX",
        "PBTbrJXOngz2",
        "0wOQAZs5pc--",
        "KSlN3yHqYklG",
        "EM7whBJCYoAo",
        "4Of9eVA-YrdM",
        "QHF8YVU7Yuh3",
        "GwzvFGzlYuh3",
        "qYpmQ266Yuh3",
        "OH-pJp9IphqM",
        "PIIx-8_IphqN",
        "BZR9WyysphqO",
        "jj7wYXLtphqO",
        "eZrbJ2SmphqO",
        "rFu4xreNphqO",
        "1M8mcRywphqQ",
        "tgIPom80phqQ",
        "JMzcOPDDphqR",
        "gIfDvo9L0UH2"
      ],
      "include_colab_link": true
    },
    "kernelspec": {
      "name": "python3",
      "display_name": "Python 3"
    },
    "language_info": {
      "name": "python"
    }
  },
  "cells": [
    {
      "cell_type": "markdown",
      "metadata": {
        "id": "view-in-github",
        "colab_type": "text"
      },
      "source": [
        "<a href=\"https://colab.research.google.com/github/Inayat-M/Colab-Notebook/blob/main/Capstone_Project_Exploratory_Data_Analysis.ipynb\" target=\"_parent\"><img src=\"https://colab.research.google.com/assets/colab-badge.svg\" alt=\"Open In Colab\"/></a>"
      ]
    },
    {
      "cell_type": "markdown",
      "source": [
        "# **Project Name**    - Hotel Booking Analysis EDA using Python\n",
        "\n"
      ],
      "metadata": {
        "id": "vncDsAP0Gaoa"
      }
    },
    {
      "cell_type": "markdown",
      "source": [
        "##### **Project Type**    - Hotel Booking Analysis EDA using Python\n",
        "##### **Contribution**    - Individual\n"
      ],
      "metadata": {
        "id": "beRrZCGUAJYm"
      }
    },
    {
      "cell_type": "markdown",
      "source": [
        "# **Project Summary -**"
      ],
      "metadata": {
        "id": "FJNUwmbgGyua"
      }
    },
    {
      "cell_type": "markdown",
      "source": [
        "Objective:\n",
        "The primary goal of this project is to analyze a dataset of hotel bookings to gain insights into booking patterns, customer behavior, and factors that impact cancellations and booking trends. By performing exploratory data analysis (EDA) using Python, we aim to uncover key findings that can guide business decisions for hotels to optimize revenue, improve customer experience, and reduce cancellations.\n",
        "\n",
        "Dataset:\n",
        "The dataset used contains information on bookings made at two types of hotels: a city hotel and a resort hotel. It includes details such as the booking date, length of stay, number of adults, children, and babies, meal options, market segment, distribution channels, customer types, and whether the booking was canceled."
      ],
      "metadata": {
        "id": "F6v_1wHtG2nS"
      }
    },
    {
      "cell_type": "markdown",
      "source": [
        "# **GitHub Link -**"
      ],
      "metadata": {
        "id": "w6K7xa23Elo4"
      }
    },
    {
      "cell_type": "markdown",
      "source": [
        "Provide your GitHub Link here."
      ],
      "metadata": {
        "id": "h1o69JH3Eqqn"
      }
    },
    {
      "cell_type": "markdown",
      "source": [
        "#### **Define Your Business Objective?**"
      ],
      "metadata": {
        "id": "PH-0ReGfmX4f"
      }
    },
    {
      "cell_type": "markdown",
      "source": [
        "The primary business objective of this analysis is to provide data-driven insights that will help hotels optimize their operations, increase revenue, and enhance customer satisfaction."
      ],
      "metadata": {
        "id": "PhDvGCAqmjP1"
      }
    },
    {
      "cell_type": "markdown",
      "source": [
        "# **General Guidelines** : -  "
      ],
      "metadata": {
        "id": "mDgbUHAGgjLW"
      }
    },
    {
      "cell_type": "markdown",
      "source": [
        "1.   Well-structured, formatted, and commented code is required.\n",
        "2.   Exception Handling, Production Grade Code & Deployment Ready Code will be a plus. Those students will be awarded some additional credits.\n",
        "     \n",
        "     The additional credits will have advantages over other students during Star Student selection.\n",
        "       \n",
        "             [ Note: - Deployment Ready Code is defined as, the whole .ipynb notebook should be executable in one go\n",
        "                       without a single error logged. ]\n",
        "\n",
        "3.   Each and every logic should have proper comments.\n",
        "4. You may add as many number of charts you want. Make Sure for each and every chart the following format should be answered.\n",
        "        \n",
        "\n",
        "```\n",
        "# Chart visualization code\n",
        "```\n",
        "            \n",
        "\n",
        "*   Why did you pick the specific chart?\n",
        "*   What is/are the insight(s) found from the chart?\n",
        "* Will the gained insights help creating a positive business impact?\n",
        "Are there any insights that lead to negative growth? Justify with specific reason.\n",
        "\n",
        "5. You have to create at least 20 logical & meaningful charts having important insights.\n",
        "\n",
        "\n",
        "[ Hints : - Do the Vizualization in  a structured way while following \"UBM\" Rule.\n",
        "\n",
        "U - Univariate Analysis,\n",
        "\n",
        "B - Bivariate Analysis (Numerical - Categorical, Numerical - Numerical, Categorical - Categorical)\n",
        "\n",
        "M - Multivariate Analysis\n",
        " ]\n",
        "\n",
        "\n",
        "\n"
      ],
      "metadata": {
        "id": "ZrxVaUj-hHfC"
      }
    },
    {
      "cell_type": "markdown",
      "source": [
        "# ***Let's Begin !***"
      ],
      "metadata": {
        "id": "O_i_v8NEhb9l"
      }
    },
    {
      "cell_type": "markdown",
      "source": [
        "## ***1. Know Your Data***"
      ],
      "metadata": {
        "id": "HhfV-JJviCcP"
      }
    },
    {
      "cell_type": "markdown",
      "source": [
        "### Import Libraries"
      ],
      "metadata": {
        "id": "Y3lxredqlCYt"
      }
    },
    {
      "cell_type": "code",
      "source": [
        "# Import Libraries\n",
        "import numpy as np\n",
        "import pandas as pd\n",
        "import matplotlib.pyplot as plt\n",
        "import seaborn as sns"
      ],
      "metadata": {
        "id": "M8Vqi-pPk-HR"
      },
      "execution_count": null,
      "outputs": []
    },
    {
      "cell_type": "markdown",
      "source": [
        "### Dataset Loading"
      ],
      "metadata": {
        "id": "3RnN4peoiCZX"
      }
    },
    {
      "cell_type": "code",
      "source": [
        "from google.colab import drive\n",
        "drive.mount('/content/drive')"
      ],
      "metadata": {
        "id": "QefxNaviewrE"
      },
      "execution_count": null,
      "outputs": []
    },
    {
      "cell_type": "code",
      "source": [
        "# Load Dataset\n",
        "path = \"/content/drive/MyDrive/Hotel Bookings.csv\"\n",
        "df = pd.read_csv(path)"
      ],
      "metadata": {
        "id": "4CkvbW_SlZ_R"
      },
      "execution_count": null,
      "outputs": []
    },
    {
      "cell_type": "code",
      "source": [
        "df"
      ],
      "metadata": {
        "id": "f2VUs0dWfHUE"
      },
      "execution_count": null,
      "outputs": []
    },
    {
      "cell_type": "markdown",
      "source": [
        "### Dataset First View"
      ],
      "metadata": {
        "id": "x71ZqKXriCWQ"
      }
    },
    {
      "cell_type": "code",
      "source": [
        "# Dataset First Look\n",
        "df"
      ],
      "metadata": {
        "id": "LWNFOSvLl09H"
      },
      "execution_count": null,
      "outputs": []
    },
    {
      "cell_type": "markdown",
      "source": [
        "### Dataset Rows & Columns count"
      ],
      "metadata": {
        "id": "7hBIi_osiCS2"
      }
    },
    {
      "cell_type": "code",
      "source": [
        "# Dataset Rows & Columns count\n",
        "# Get the number of rows and columns\n",
        "rows, columns = df.shape\n",
        "\n",
        "print(f\"Number of Rows: {rows}\")\n",
        "print(f\"Number of Columns: {columns}\")"
      ],
      "metadata": {
        "id": "Kllu7SJgmLij"
      },
      "execution_count": null,
      "outputs": []
    },
    {
      "cell_type": "markdown",
      "source": [
        "### Dataset Information"
      ],
      "metadata": {
        "id": "JlHwYmJAmNHm"
      }
    },
    {
      "cell_type": "code",
      "source": [
        "# Dataset Info\n",
        "df.info()"
      ],
      "metadata": {
        "id": "e9hRXRi6meOf"
      },
      "execution_count": null,
      "outputs": []
    },
    {
      "cell_type": "markdown",
      "source": [
        "#### Duplicate Values"
      ],
      "metadata": {
        "id": "35m5QtbWiB9F"
      }
    },
    {
      "cell_type": "code",
      "source": [
        "# Dataset Duplicate Value Count\n",
        "#Count duplicate rows\n",
        "duplicate_count = df.duplicated().sum()\n",
        "\n",
        "print(f\"Number of Duplicate Rows: {duplicate_count}\")\n"
      ],
      "metadata": {
        "id": "1sLdpKYkmox0"
      },
      "execution_count": null,
      "outputs": []
    },
    {
      "cell_type": "markdown",
      "source": [
        "#### Missing Values/Null Values"
      ],
      "metadata": {
        "id": "PoPl-ycgm1ru"
      }
    },
    {
      "cell_type": "code",
      "source": [
        "# Missing Values/Null Values Count\n",
        "missing_values = df.isnull().sum()\n",
        "\n",
        "print(\"Missing Values Count per Column:\")\n",
        "print(missing_values)"
      ],
      "metadata": {
        "id": "GgHWkxvamxVg"
      },
      "execution_count": null,
      "outputs": []
    },
    {
      "cell_type": "code",
      "source": [
        "issing_values = df.isnull().sum()\n",
        "missing_values = missing_values[missing_values > 0]\n",
        "\n",
        "print(\"Columns with Missing Values:\")\n",
        "print(missing_values)\n"
      ],
      "metadata": {
        "id": "8jFU7aaOhnO2"
      },
      "execution_count": null,
      "outputs": []
    },
    {
      "cell_type": "code",
      "source": [
        "null_value = df.isnull().sum().sort_values(ascending = False)\n",
        "null_value"
      ],
      "metadata": {
        "id": "x_QgCk3zijeA"
      },
      "execution_count": null,
      "outputs": []
    },
    {
      "cell_type": "code",
      "source": [
        "# Visualizing the missing values\n",
        "plt.figure(figsize=(10, 6))\n",
        "sns.heatmap(df.isnull(), cbar=False, cmap='viridis', yticklabels=False)\n",
        "plt.title('Missing Values Heatmap')\n",
        "plt.show()"
      ],
      "metadata": {
        "id": "3q5wnI3om9sJ"
      },
      "execution_count": null,
      "outputs": []
    },
    {
      "cell_type": "markdown",
      "source": [
        "### What did you know about your dataset?"
      ],
      "metadata": {
        "id": "H0kj-8xxnORC"
      }
    },
    {
      "cell_type": "markdown",
      "source": [
        "The dataset provides valuable insights into booking patterns, customer behavior, and operational factors. It includes information such as booking dates, length of stay, customer demographics, and whether bookings were canceled. Through initial exploration, we identified that certain features, such as lead time and market segment, significantly influence cancellations. The dataset has missing values in certain columns, which need to be addressed, and some duplicate rows that might require removal. Descriptive statistics reveal key trends like peak booking periods and differences between city and resort hotel performances. Correlation analysis helps in understanding relationships between variables, while visualizations uncover patterns in customer preferences and booking behavior. Overall, this exploration lays the foundation for deeper analysis, predictive modeling, and actionable business strategies."
      ],
      "metadata": {
        "id": "gfoNAAC-nUe_"
      }
    },
    {
      "cell_type": "markdown",
      "source": [
        "## ***2. Understanding Your Variables***"
      ],
      "metadata": {
        "id": "nA9Y7ga8ng1Z"
      }
    },
    {
      "cell_type": "code",
      "source": [
        "# Dataset Columns\n",
        "df_columns = df.columns\n",
        "df_columns"
      ],
      "metadata": {
        "id": "j7xfkqrt5Ag5"
      },
      "execution_count": null,
      "outputs": []
    },
    {
      "cell_type": "code",
      "source": [
        "# Dataset Describe\n",
        "df.describe()"
      ],
      "metadata": {
        "id": "DnOaZdaE5Q5t"
      },
      "execution_count": null,
      "outputs": []
    },
    {
      "cell_type": "markdown",
      "source": [
        "### Variables Description"
      ],
      "metadata": {
        "id": "PBTbrJXOngz2"
      }
    },
    {
      "cell_type": "markdown",
      "source": [
        "1.**hotel** = Name of the hotel (Resort or hotel)\n",
        "\n",
        "2.**is_canceled** = if the booking was canceled (0 or 1 )\n",
        "\n",
        "3.**lead_time** = Number of days before the actual arrival of guests\n",
        "\n",
        "4.**arrival_date_year** = year of arrival date\n",
        "\n",
        "5.**arrival_date_month** = Month of arrival date\n",
        "\n",
        "6.**arrival_date_day_of_month** = day of arrival date\n",
        "\n",
        "7.**arrival_date_week_number** = Week number of year for arrival date\n",
        "\n",
        "8.**stays_in_weekend_nights** = Number of weekend nights (Saturday or Sunday) spent at the hotel by the guest\n",
        "\n",
        "9.**stays_in_week_nights** = Number of weeknights(Monday to Friday) spent on the hotel by the guest\n",
        "\n",
        "10.**adults** = Number of adults among guest\n",
        "\n",
        "11.**children** = Number of children among guest\n",
        "\n",
        "12.**babies** = Number of babies among guest\n",
        "\n",
        "13.**meal** = Type of meal these guest booked\n",
        "\n",
        "14.**country** = The country where the guest belong to\n",
        "\n",
        "15.**market_segment** =Designation of market segment\n",
        "\n",
        "16.**distribution_channel** = Nam of booking distribution channel\n",
        "\n",
        "17.**is_repeated_guest** = If the booking was from a repeted guest (1) or (0)\n",
        "\n",
        "18.**previous_cancellations**  = Number of previous booking that were cancelled by the customer prior of the current booking\n",
        "\n",
        "19.**previous_bookings_not_canceled** = Number of privious booking not cancelled by the customer prior or to the current booking\n",
        "\n",
        "20.**reserved_room_type** = Code of room type reserved\n",
        "\n",
        "21.**assigned_room_type** = Code of room type assigned\n",
        "\n",
        "22.**booking_changes** = Number of changes made to the booking\n",
        "\n",
        "23.**deposit_type** = Type of deposit made by the guest\n",
        "\n",
        "24.**agent** = ID of travel agent who made the booking\n",
        "\n",
        "25.**company** = ID of the company that made the booking\n",
        "\n",
        "26.**days_in_waiting_list** = Number of the days the booking was on waiting list\n",
        "\n",
        "27.**customer_type** = Type of customer assuming one or four categories\n",
        "\n",
        "28.**adr** = Average Daily Rate , as defined by driving the sum of lodging transaction by the total number of staying nights  \n",
        "\n",
        "29.**required_car_parking_spaces** = Number of car parking spaces required by the customer\n",
        "\n",
        "30.**total_of_special_requests** = Number of special requests made by the customer\n",
        "\n",
        "31.**reservation_status** = Reservation status (Cancelled ,Check-Out  or No-Show)\n",
        "\n",
        "32.**reservation_status_date** = Date at which the last reservation status was uploaded\n",
        "\n",
        "\n"
      ],
      "metadata": {
        "id": "aJV4KIxSnxay"
      }
    },
    {
      "cell_type": "markdown",
      "source": [
        "### Check Unique Values for each variable."
      ],
      "metadata": {
        "id": "u3PMJOP6ngxN"
      }
    },
    {
      "cell_type": "code",
      "source": [
        "# Check Unique Values for each variable.\n",
        "df.nunique() # this will show the number of uniqe values\n",
        "print(df.apply(lambda col : col.unique()))"
      ],
      "metadata": {
        "id": "zms12Yq5n-jE"
      },
      "execution_count": null,
      "outputs": []
    },
    {
      "cell_type": "markdown",
      "source": [
        "## 3. ***Data Wrangling***"
      ],
      "metadata": {
        "id": "dauF4eBmngu3"
      }
    },
    {
      "cell_type": "markdown",
      "source": [
        "### Data Wrangling Code"
      ],
      "metadata": {
        "id": "bKJF3rekwFvQ"
      }
    },
    {
      "cell_type": "code",
      "source": [
        "# Write your code to make your dataset analysis ready.\n",
        "print(\"Initial Dataset Information:\")\n",
        "df.info()"
      ],
      "metadata": {
        "id": "wk-9a2fpoLcV"
      },
      "execution_count": null,
      "outputs": []
    },
    {
      "cell_type": "code",
      "source": [
        "#Display the number of missing values per column\n",
        "print(\"\\nMissing Values Count per Column:\")\n",
        "print(df.isnull().sum())"
      ],
      "metadata": {
        "id": "MIUqykqKmq7g"
      },
      "execution_count": null,
      "outputs": []
    },
    {
      "cell_type": "code",
      "source": [
        "# Drop duplicate rows if any\n",
        "duplicates_count = df.duplicated().sum()\n",
        "if duplicates_count > 0:\n",
        "    df = df.drop_duplicates()\n",
        "    print(f\"\\nDropped {duplicates_count} duplicate rows.\")\n",
        "else:\n",
        "    print(\"\\nNo duplicate rows found.\")"
      ],
      "metadata": {
        "id": "09HudXeXmwqq"
      },
      "execution_count": null,
      "outputs": []
    },
    {
      "cell_type": "code",
      "source": [
        "# Fill missing numerical values with the median of the column\n",
        "numerical_cols = df.select_dtypes(include=[np.number]).columns\n",
        "for col in numerical_cols:\n",
        "    df[col].fillna(df[col].median(), inplace=True)"
      ],
      "metadata": {
        "id": "Rm0b4XZum0XD"
      },
      "execution_count": null,
      "outputs": []
    },
    {
      "cell_type": "code",
      "source": [
        "# Fill missing categorical values with the mode of the column\n",
        "categorical_cols = df.select_dtypes(include=[object]).columns\n",
        "for col in categorical_cols:\n",
        "    df[col].fillna(df[col].mode()[0], inplace=True)"
      ],
      "metadata": {
        "id": "xqSkJJskm40W"
      },
      "execution_count": null,
      "outputs": []
    },
    {
      "cell_type": "code",
      "source": [
        "# Encode categorical variables\n",
        "df_encoded = pd.get_dummies(df, drop_first=True)"
      ],
      "metadata": {
        "id": "4LIKcm6sm-Fl"
      },
      "execution_count": null,
      "outputs": []
    },
    {
      "cell_type": "code",
      "source": [
        "# Display final dataset information\n",
        "print(\"\\nFinal Dataset Information:\")\n",
        "df_encoded.info()\n",
        "\n",
        "print(\"\\nSample Data After Preparation:\")\n",
        "print(df_encoded.head())"
      ],
      "metadata": {
        "id": "ijdMUzSDnES5"
      },
      "execution_count": null,
      "outputs": []
    },
    {
      "cell_type": "markdown",
      "source": [
        "### What all manipulations have you done and insights you found?"
      ],
      "metadata": {
        "id": "MSa1f5Uengrz"
      }
    },
    {
      "cell_type": "markdown",
      "source": [
        "**Manipulations Performed:**\n",
        "**Loaded the Dataset:**\n",
        "\n",
        "The dataset was read from a CSV file into a pandas DataFrame for analysis.\n",
        "\n",
        "**Displayed Initial Information:**\n",
        "Provided an overview of the dataset's structure, including the number of rows and columns, and basic data types for each column.\n",
        "\n",
        "**Checked for Missing Values:**\n",
        "Identified columns with missing values and displayed their counts.\n",
        "\n",
        "**Removed Duplicates:**\n",
        "Dropped any duplicate rows to ensure each record in the dataset is unique.\n",
        "\n",
        "**Handled Missing Values:**\n",
        "For numerical columns, missing values were filled with the median value of each column.\n",
        "For categorical columns, missing values were filled with the mode (most frequent value) of each column.\n",
        "\n",
        "**Encoded Categorical Variables:**\n",
        "Applied one-hot encoding to convert categorical variables into a format suitable for analysis and modeling. This involved creating binary columns for each category and dropping the first category to avoid multicollinearity.\n",
        "\n",
        "**Displayed Final Information:**\n",
        "Provided an updated overview of the dataset, showing the structure after the manipulations and a sample of the prepared data.\n",
        "\n",
        "**Insights Found:**\n",
        "**Missing Values:**\n",
        "\n",
        "Identified the presence of missing values in various columns, with strategies applied to address these issues. Numerical and categorical columns were handled differently to preserve data integrity.\n",
        "\n",
        "**Duplicates:**\n",
        "Determined whether any duplicate rows existed and removed them if necessary to ensure a clean dataset.\n",
        "\n",
        "**Data Quality:**\n",
        "The handling of missing values and duplicates improved the dataset’s quality, making it more reliable for analysis and modeling.\n",
        "\n",
        "**Categorical Encoding:**\n",
        "Categorical variables were converted into numerical format, enabling their inclusion in statistical analyses and machine learning models. One-hot encoding ensures that categorical data is appropriately represented.\n",
        "\n",
        "**Prepared Data:**\n",
        "The final dataset is now ready for deeper analysis, such as statistical exploration, correlation analysis, and predictive modeling. The preparation steps ensure that the data is clean, complete, and in a suitable format for further exploration."
      ],
      "metadata": {
        "id": "LbyXE7I1olp8"
      }
    },
    {
      "cell_type": "markdown",
      "source": [
        "## ***4. Data Vizualization, Storytelling & Experimenting with charts : Understand the relationships between variables***"
      ],
      "metadata": {
        "id": "GF8Ens_Soomf"
      }
    },
    {
      "cell_type": "markdown",
      "source": [
        "#### Chart - 1"
      ],
      "metadata": {
        "id": "0wOQAZs5pc--"
      }
    },
    {
      "cell_type": "code",
      "source": [
        "# Chart - 1 visualization code\n",
        "def get_count_from_column_bar(df,column_label):\n",
        "  df_grpd = df[column_label].value_counts()\n",
        "  df_grpd = pd.DataFrame({'index':df_grpd.index, 'count':df_grpd.values})\n",
        "  return df_grpd"
      ],
      "metadata": {
        "id": "7v_ESjsspbW7"
      },
      "execution_count": null,
      "outputs": []
    },
    {
      "cell_type": "code",
      "source": [
        "def plot_bar_chart_from_column(df,column_label,t1):\n",
        "  df_grpd = get_count_from_column_bar(df,column_label)\n",
        "  fig,ax = plt.subplots(figsize = (10,6))\n",
        "  c = ['green','blue','red','yellow','brown']\n",
        "  ax.bar(df_grpd['index'],df_grpd['count'],width = 0.4,align = 'edge',edgecolor = 'black',linewidth = 4 ,color = c,linestyle = ':',alpha = 0.5)\n",
        "  plt.title(t1,bbox= {'facecolor':'0.8','pad':3})\n",
        "  plt.legend()\n",
        "  # plt.xlabel(column_label)\n",
        "  plt.ylabel('count')\n",
        "  plt.xticks(rotation = 15)\n",
        "  plt.show()\n"
      ],
      "metadata": {
        "id": "e_Vp2qMzpo2o"
      },
      "execution_count": null,
      "outputs": []
    },
    {
      "cell_type": "code",
      "source": [
        "# chart - 1 visulization code\n",
        "def get_count_from_column(df,column_label):\n",
        "  df_grpd = df[column_label].value_counts()\n",
        "  df_grpd = pd.DataFrame({'index':df_grpd.index, 'count':df_grpd.values})\n",
        "  return df_grpd"
      ],
      "metadata": {
        "id": "AmkPXGFvprUm"
      },
      "execution_count": null,
      "outputs": []
    },
    {
      "cell_type": "code",
      "source": [
        "#plot the pie chart from grouped data\n",
        "def plot_pie_chart_from_column(df,column_label,t1,exp):\n",
        "  df_grpd = get_count_from_column(df,column_label)\n",
        "  fig,ax = plt.subplots(figsize = (14,6))\n",
        "  ax.pie(df_grpd.loc[:,'count'],labels = df_grpd.loc[:,'index'],autopct = '%1.2f%%',startangle = 90 ,labeldistance = 1.2,explode = exp)\n",
        "  plt.title(t1,bbox={'facecolor':'0.8','pad':5})\n",
        "  ax.axis('equal')\n",
        "  plt.legend()\n",
        "  plt.show()"
      ],
      "metadata": {
        "id": "IZaAvGALp3qG"
      },
      "execution_count": null,
      "outputs": []
    },
    {
      "cell_type": "code",
      "source": [
        "exp1 = [0.05,0.05]\n",
        "plot_pie_chart_from_column(df,'hotel','Booking Percentage of Hotel By Name',exp1)"
      ],
      "metadata": {
        "id": "J4TtVMtJp98u"
      },
      "execution_count": null,
      "outputs": []
    },
    {
      "cell_type": "markdown",
      "source": [
        "##### 1. Why did you pick the specific chart?"
      ],
      "metadata": {
        "id": "K5QZ13OEpz2H"
      }
    },
    {
      "cell_type": "markdown",
      "source": [
        "I picked the pie chart because it’s particularly effective for showing the proportions of categorical data relative to a whole. Here’s why the pie chart is suitable for the given scenarios:\n",
        "\n",
        "1. **Visualizing Proportions:**\n",
        "Purpose: Pie charts excel at displaying how different parts contribute to the whole. This is useful for understanding the relative sizes of categories within a dataset.\n",
        "**Scenario Example:** When examining booking cancellations by hotel type or the distribution of bookings by market segment, a pie chart clearly illustrates how each category (hotel type or market segment) compares to the total, making it easier to see which categories are most significant or have the largest share."
      ],
      "metadata": {
        "id": "XESiWehPqBRc"
      }
    },
    {
      "cell_type": "markdown",
      "source": [
        "##### 2. What is/are the insight(s) found from the chart?"
      ],
      "metadata": {
        "id": "lQ7QKXXCp7Bj"
      }
    },
    {
      "cell_type": "markdown",
      "source": [
        "**Immediate Insights:**\n",
        "**Purpose:** Pie charts offer a quick visual reference for understanding the distribution of data at a glance. This is particularly useful for presentations or executive summaries where clear and immediate insights are valuable.\n",
        "**Scenario Example:** In a report or presentation, showing the proportion of booking cancellations by hotel type can help stakeholders quickly understand which hotel types are more prone to cancellations."
      ],
      "metadata": {
        "id": "C_j1G7yiqdRP"
      }
    },
    {
      "cell_type": "markdown",
      "source": [
        "##### 3. Will the gained insights help creating a positive business impact?\n",
        "Are there any insights that lead to negative growth? Justify with specific reason."
      ],
      "metadata": {
        "id": "448CDAPjqfQr"
      }
    },
    {
      "cell_type": "markdown",
      "source": [
        "The insights gained from the pie chart and other visualizations can significantly impact business strategy and operations. For instance, understanding the proportion of booking cancellations by hotel type can help tailor marketing and operational strategies to reduce cancellations, ultimately improving revenue. If a particular hotel type has a higher cancellation rate, targeted interventions such as better booking policies or customer retention strategies can be implemented. Conversely, if the analysis reveals a disproportionate reliance on a market segment with low conversion rates, it might indicate a need for diversification or a reevaluation of marketing tactics. However, if the insights reveal significant issues, such as high cancellation rates or low booking proportions in key segments, these could negatively impact growth by highlighting areas that require urgent attention or indicate underlying problems in the business model. Addressing these issues proactively can help mitigate potential negative effects and foster positive growth."
      ],
      "metadata": {
        "id": "3cspy4FjqxJW"
      }
    },
    {
      "cell_type": "markdown",
      "source": [
        "#### Chart - 2"
      ],
      "metadata": {
        "id": "KSlN3yHqYklG"
      }
    },
    {
      "cell_type": "code",
      "source": [
        "# Chart - 2 visualization code\n",
        "exp2 = [0,0.1]\n",
        "plot_pie_chart_from_column(df,'is_canceled','Cancellation Volume of Hotel',exp2)"
      ],
      "metadata": {
        "id": "R4YgtaqtYklH"
      },
      "execution_count": null,
      "outputs": []
    },
    {
      "cell_type": "markdown",
      "source": [
        "##### 1. Why did you pick the specific chart?"
      ],
      "metadata": {
        "id": "t6dVpIINYklI"
      }
    },
    {
      "cell_type": "markdown",
      "source": [
        "This is the best chart where we can use to show the cancellation rate of the hotels booking"
      ],
      "metadata": {
        "id": "5aaW0BYyYklI"
      }
    },
    {
      "cell_type": "markdown",
      "source": [
        "##### 2. What is/are the insight(s) found from the chart?"
      ],
      "metadata": {
        "id": "ijmpgYnKYklI"
      }
    },
    {
      "cell_type": "markdown",
      "source": [
        "Here ,I found that overall more then 25% of booking got cancelled"
      ],
      "metadata": {
        "id": "PSx9atu2YklI"
      }
    },
    {
      "cell_type": "markdown",
      "source": [
        "##### 3. Will the gained insights help creating a positive business impact?\n",
        "Are there any insights that lead to negative growth? Justify with specific reason."
      ],
      "metadata": {
        "id": "-JiQyfWJYklI"
      }
    },
    {
      "cell_type": "markdown",
      "source": [
        "Here i can say that more then 27% of booking getting cancelled .\n",
        "\n",
        "Solution = We can check the reason of cancellation of booking & and need to get this sort on business level"
      ],
      "metadata": {
        "id": "BcBbebzrYklV"
      }
    },
    {
      "cell_type": "markdown",
      "source": [
        "#### Chart - 3"
      ],
      "metadata": {
        "id": "EM7whBJCYoAo"
      }
    },
    {
      "cell_type": "code",
      "source": [
        "# Chart - 3 visualization code\n",
        "plot_bar_chart_from_column(df,'distribution_channel','Distribution Channel Volume')"
      ],
      "metadata": {
        "id": "t6GMdE67YoAp"
      },
      "execution_count": null,
      "outputs": []
    },
    {
      "cell_type": "markdown",
      "source": [
        "##### 1. Why did you pick the specific chart?"
      ],
      "metadata": {
        "id": "fge-S5ZAYoAp"
      }
    },
    {
      "cell_type": "markdown",
      "source": [
        "I think this is chart is best for showing that maximum volume done throught by which which channel to represent the number in descending order ."
      ],
      "metadata": {
        "id": "5dBItgRVYoAp"
      }
    },
    {
      "cell_type": "markdown",
      "source": [
        "##### 2. What is/are the insight(s) found from the chart?"
      ],
      "metadata": {
        "id": "85gYPyotYoAp"
      }
    },
    {
      "cell_type": "markdown",
      "source": [
        "As we can see the TA/TO(Tour of Agent & Tour of operator) is highest ,reommending the to countinue booking throught TA/TO"
      ],
      "metadata": {
        "id": "4jstXR6OYoAp"
      }
    },
    {
      "cell_type": "markdown",
      "source": [
        "##### 3. Will the gained insights help creating a positive business impact?\n",
        "Are there any insights that lead to negative growth? Justify with specific reason."
      ],
      "metadata": {
        "id": "RoGjAbkUYoAp"
      }
    },
    {
      "cell_type": "markdown",
      "source": [
        "Yes this shows positive business impact .\n",
        "\n",
        "Higher the number of TA/TO will help to increase the revenue generation of hotel"
      ],
      "metadata": {
        "id": "zfJ8IqMcYoAp"
      }
    },
    {
      "cell_type": "markdown",
      "source": [
        "#### Chart - 4"
      ],
      "metadata": {
        "id": "4Of9eVA-YrdM"
      }
    },
    {
      "cell_type": "code",
      "source": [
        "# Chart - 4 visualization code\n",
        "exp3 = [0.2,0,0,0,0,0,0,0,0,0,0,0]\n",
        "plot_pie_chart_from_column(df,'arrival_date_month','Month-wise booking',exp3)"
      ],
      "metadata": {
        "id": "irlUoxc8YrdO"
      },
      "execution_count": null,
      "outputs": []
    },
    {
      "cell_type": "markdown",
      "source": [
        "##### 1. Why did you pick the specific chart?"
      ],
      "metadata": {
        "id": "iky9q4vBYrdO"
      }
    },
    {
      "cell_type": "markdown",
      "source": [
        "This will usefull and easy to understand .Here we are showing the percentage of booking in each month ,on oerall data"
      ],
      "metadata": {
        "id": "aJRCwT6DYrdO"
      }
    },
    {
      "cell_type": "markdown",
      "source": [
        "##### 2. What is/are the insight(s) found from the chart?"
      ],
      "metadata": {
        "id": "F6T5p64dYrdO"
      }
    },
    {
      "cell_type": "markdown",
      "source": [
        "This shows that the lowest booking we get in january but the higest peak of booking is in may,july and august there can be for holidays reason .I suggest to do more of advertise at this time to get such a profitable output ."
      ],
      "metadata": {
        "id": "Xx8WAJvtYrdO"
      }
    },
    {
      "cell_type": "markdown",
      "source": [
        "##### 3. Will the gained insights help creating a positive business impact?\n",
        "Are there any insights that lead to negative growth? Justify with specific reason."
      ],
      "metadata": {
        "id": "y-Ehk30pYrdP"
      }
    },
    {
      "cell_type": "markdown",
      "source": [
        "Yes , with increased volume of customer will help the hotels to manage the revenue at them down time ,this will also help to customer setisfaction ."
      ],
      "metadata": {
        "id": "jLNxxz7MYrdP"
      }
    },
    {
      "cell_type": "markdown",
      "source": [
        "#### Chart - 5"
      ],
      "metadata": {
        "id": "bamQiAODYuh1"
      }
    },
    {
      "cell_type": "code",
      "source": [
        "# Chart - 5 visualization code\n",
        "exp4 = [0,0.2]\n",
        "plot_pie_chart_from_column(df,'is_repeated','Guest Reapeating Status ',exp4)"
      ],
      "metadata": {
        "id": "03bue2eut1hv"
      },
      "execution_count": null,
      "outputs": []
    },
    {
      "cell_type": "markdown",
      "source": [
        "##### 1. Why did you pick the specific chart?"
      ],
      "metadata": {
        "id": "QHF8YVU7Yuh3"
      }
    },
    {
      "cell_type": "markdown",
      "source": [
        "Answer Here."
      ],
      "metadata": {
        "id": "dcxuIMRPYuh3"
      }
    },
    {
      "cell_type": "markdown",
      "source": [
        "##### 2. What is/are the insight(s) found from the chart?"
      ],
      "metadata": {
        "id": "GwzvFGzlYuh3"
      }
    },
    {
      "cell_type": "markdown",
      "source": [
        "Answer Here"
      ],
      "metadata": {
        "id": "uyqkiB8YYuh3"
      }
    },
    {
      "cell_type": "markdown",
      "source": [
        "##### 3. Will the gained insights help creating a positive business impact?\n",
        "Are there any insights that lead to negative growth? Justify with specific reason."
      ],
      "metadata": {
        "id": "qYpmQ266Yuh3"
      }
    },
    {
      "cell_type": "markdown",
      "source": [
        "Answer Here"
      ],
      "metadata": {
        "id": "_WtzZ_hCYuh4"
      }
    },
    {
      "cell_type": "markdown",
      "source": [
        "#### Chart - 6"
      ],
      "metadata": {
        "id": "OH-pJp9IphqM"
      }
    },
    {
      "cell_type": "code",
      "source": [
        "# Chart - 6 visualization code\n",
        "plot_bar_chart_from_column(df,'assigned_room_type','Assigned Room Type')"
      ],
      "metadata": {
        "id": "kuRf4wtuphqN"
      },
      "execution_count": null,
      "outputs": []
    },
    {
      "cell_type": "markdown",
      "source": [
        "##### 1. Why did you pick the specific chart?"
      ],
      "metadata": {
        "id": "bbFf2-_FphqN"
      }
    },
    {
      "cell_type": "markdown",
      "source": [
        "To show distribution by volume ,which room is alotted to the customers maximum time"
      ],
      "metadata": {
        "id": "loh7H2nzphqN"
      }
    },
    {
      "cell_type": "markdown",
      "source": [
        "##### 2. What is/are the insight(s) found from the chart?"
      ],
      "metadata": {
        "id": "_ouA3fa0phqN"
      }
    },
    {
      "cell_type": "markdown",
      "source": [
        "By this chart we can see the room 'A' is much preferd by the customers ."
      ],
      "metadata": {
        "id": "VECbqPI7phqN"
      }
    },
    {
      "cell_type": "markdown",
      "source": [
        "##### 3. Will the gained insights help creating a positive business impact?\n",
        "Are there any insights that lead to negative growth? Justify with specific reason."
      ],
      "metadata": {
        "id": "Seke61FWphqN"
      }
    },
    {
      "cell_type": "markdown",
      "source": [
        "Yes, becouse hotel can take this in a business profitable way. They can provide same services and mosture to others room to get a profitable revenue ."
      ],
      "metadata": {
        "id": "DW4_bGpfphqN"
      }
    },
    {
      "cell_type": "markdown",
      "source": [
        "#### Chart - 7"
      ],
      "metadata": {
        "id": "PIIx-8_IphqN"
      }
    },
    {
      "cell_type": "code",
      "source": [
        "# Chart - 7 visualization code\n",
        "market_segment_df = pd.DataFrame(df['market_segment'])\n",
        "market_segment_data = market_segment_df.groupby('market_segment')['market_segment'].count()\n",
        "market_segment_data.sort_values(ascending = False,inplace = True)\n",
        "plt.figure(figsize = (14,6))\n",
        "y = np.array([4,5,6])\n",
        "market_segment_data.plot(kind = 'bar',color = ['r','g','y','b','pink','black','brown'],fontsize = 20, legend = 'True')"
      ],
      "metadata": {
        "id": "lqAIGUfyphqO"
      },
      "execution_count": null,
      "outputs": []
    },
    {
      "cell_type": "markdown",
      "source": [
        "##### 1. Why did you pick the specific chart?"
      ],
      "metadata": {
        "id": "t27r6nlMphqO"
      }
    },
    {
      "cell_type": "markdown",
      "source": [
        "In this chart ,we can see that market segment by which hotel has booked ."
      ],
      "metadata": {
        "id": "iv6ro40sphqO"
      }
    },
    {
      "cell_type": "markdown",
      "source": [
        "##### 2. What is/are the insight(s) found from the chart?"
      ],
      "metadata": {
        "id": "r2jJGEOYphqO"
      }
    },
    {
      "cell_type": "markdown",
      "source": [
        "Online TA has been the most frequently to book hotel by the customers"
      ],
      "metadata": {
        "id": "Po6ZPi4hphqO"
      }
    },
    {
      "cell_type": "markdown",
      "source": [
        "##### 3. Will the gained insights help creating a positive business impact?\n",
        "Are there any insights that lead to negative growth? Justify with specific reason."
      ],
      "metadata": {
        "id": "b0JNsNcRphqO"
      }
    },
    {
      "cell_type": "markdown",
      "source": [
        "Yes , This generate a positive business impact ,that the owners can see the online platform is the best way the the customers are using , they can increase there online approach also customer can see the online website is trutable and they can easly get any information or can book the room by this ."
      ],
      "metadata": {
        "id": "xvSq8iUTphqO"
      }
    },
    {
      "cell_type": "markdown",
      "source": [
        "#### Chart - 8"
      ],
      "metadata": {
        "id": "BZR9WyysphqO"
      }
    },
    {
      "cell_type": "code",
      "source": [
        "# Chart - 8 visualization code\n",
        "guest_country_wise = pd.DataFrame(df[['country','total_guest']])\n",
        "guest_country_wise_data = guest_country_wise.groupby('country')['total_guest'].sum()\n",
        "guest_country_wise_data.sort_values(ascending = False,inplace = True)\n",
        "top_10_country_guest = guest_country_wise_data.head(10)\n",
        "top_10_country_guest"
      ],
      "metadata": {
        "id": "TdPTWpAVphqO"
      },
      "execution_count": null,
      "outputs": []
    },
    {
      "cell_type": "code",
      "source": [
        "plt.figure(figsize = (12,6))\n",
        "sns.barplot(x = top_10_country_guest.index,y = top_10_country_guest).set(title = \"Top 10 countries by guest \")\n",
        "print(\"Top 10 countries by guest\")\n",
        "print(\"PRT = Portugal\")\n",
        "print(\"GBR = Great Britain & Northern Ireland\")\n",
        "print(\"FRA = France\")\n",
        "print(\"ESP = Spain\")\n",
        "print(\"DEU = Germany\")\n",
        "print(\"ITA = Italy\")\n",
        "print(\"IRL = Ireland\")\n",
        "print(\"BRA = Brazil\")\n",
        "print(\"BEL = Belgium\")\n",
        "print(\"NOR = Norway\")"
      ],
      "metadata": {
        "id": "f81WK9TXvOPd"
      },
      "execution_count": null,
      "outputs": []
    },
    {
      "cell_type": "markdown",
      "source": [
        "##### 1. Why did you pick the specific chart?"
      ],
      "metadata": {
        "id": "jj7wYXLtphqO"
      }
    },
    {
      "cell_type": "markdown",
      "source": [
        "Answer Here."
      ],
      "metadata": {
        "id": "Ob8u6rCTphqO"
      }
    },
    {
      "cell_type": "markdown",
      "source": [
        "##### 2. What is/are the insight(s) found from the chart?"
      ],
      "metadata": {
        "id": "eZrbJ2SmphqO"
      }
    },
    {
      "cell_type": "markdown",
      "source": [
        "Answer Here"
      ],
      "metadata": {
        "id": "mZtgC_hjphqO"
      }
    },
    {
      "cell_type": "markdown",
      "source": [
        "##### 3. Will the gained insights help creating a positive business impact?\n",
        "Are there any insights that lead to negative growth? Justify with specific reason."
      ],
      "metadata": {
        "id": "rFu4xreNphqO"
      }
    },
    {
      "cell_type": "markdown",
      "source": [
        "Answer Here"
      ],
      "metadata": {
        "id": "ey_0qi68phqO"
      }
    },
    {
      "cell_type": "markdown",
      "source": [
        "#### Chart - 9"
      ],
      "metadata": {
        "id": "YJ55k-q6phqO"
      }
    },
    {
      "cell_type": "code",
      "source": [
        "# Chart - 9 visualization code\n",
        "average_adr = df.groupby('hotel')['adr'].mean()\n",
        "average_adr"
      ],
      "metadata": {
        "id": "B2aS4O1ophqO"
      },
      "execution_count": null,
      "outputs": []
    },
    {
      "cell_type": "code",
      "source": [
        "plt.subplots(figsize = (8,5))\n",
        "average_adr.plot(kind = 'bar',color = ['r','g'],fontsize = 10)\n",
        "plt.xlabel('Average ADR')\n",
        "plt.ylabel(\"Hotel Name\")\n",
        "plt.title(\"Average ADR of Hotel\")"
      ],
      "metadata": {
        "id": "0hdaOSIJwo1k"
      },
      "execution_count": null,
      "outputs": []
    },
    {
      "cell_type": "markdown",
      "source": [
        "##### 1. Why did you pick the specific chart?"
      ],
      "metadata": {
        "id": "gCFgpxoyphqP"
      }
    },
    {
      "cell_type": "markdown",
      "source": [
        "To show the bothe the hotels (hotel and resorts ) average adr ."
      ],
      "metadata": {
        "id": "TVxDimi2phqP"
      }
    },
    {
      "cell_type": "markdown",
      "source": [
        "##### 2. What is/are the insight(s) found from the chart?"
      ],
      "metadata": {
        "id": "OVtJsKN_phqQ"
      }
    },
    {
      "cell_type": "markdown",
      "source": [
        "here we can see the city hotels have maxixmum average of ADR compares to Resort hotel . And ADR is basically revenue ."
      ],
      "metadata": {
        "id": "ngGi97qjphqQ"
      }
    },
    {
      "cell_type": "markdown",
      "source": [
        "##### 3. Will the gained insights help creating a positive business impact?\n",
        "Are there any insights that lead to negative growth? Justify with specific reason."
      ],
      "metadata": {
        "id": "lssrdh5qphqQ"
      }
    },
    {
      "cell_type": "markdown",
      "source": [
        "Yes, I think there could be a reason ,may be the customer are prefering the room in budget , or may be its based on facilities so resort hotel can change some of things to et a higher customer references ."
      ],
      "metadata": {
        "id": "tBpY5ekJphqQ"
      }
    },
    {
      "cell_type": "code",
      "source": [
        "df.columns"
      ],
      "metadata": {
        "id": "f79GNSVqxZyD"
      },
      "execution_count": null,
      "outputs": []
    },
    {
      "cell_type": "markdown",
      "source": [
        "#### Chart - 10"
      ],
      "metadata": {
        "id": "U2RJ9gkRphqQ"
      }
    },
    {
      "cell_type": "code",
      "source": [
        "if 'TotalRevenue' in df.columns:\n",
        "    plt.figure(figsize=(8, 5))\n",
        "    hotel_wise_revenue = df.groupby('hotel')['TotalRevenue'].sum()\n",
        "    ax = hotel_wise_revenue.plot(kind='bar', color=('blue', 'green'))\n",
        "    plt.xlabel(\"Hotel\")\n",
        "    plt.ylabel(\"Total Revenue\")\n",
        "    plt.title(\"Total Revenue of Hotels\")\n",
        "    plt.show()\n",
        "else:\n",
        "    print(\"The 'TotalRevenue' column is not found. Please verify the column name.\")"
      ],
      "metadata": {
        "id": "nZjZzth1yHMS"
      },
      "execution_count": null,
      "outputs": []
    },
    {
      "cell_type": "code",
      "source": [
        "# Chart - 10 visualization code\n",
        "plt.figure(figsize = (8,5))\n",
        "hotel_wise_revenue  =df.groupby('hotel','revenue').sum()\n",
        "ax = hotel_wise_revenue.plot(kind = 'bar',color = ('blue','green'))\n",
        "plt.xlabel(\"Hotel\")\n",
        "plt.ylabel(\"Total Revenue\")\n",
        "plt.title(\"Total Revenue of Hotels\")"
      ],
      "metadata": {
        "id": "GM7a4YP4phqQ"
      },
      "execution_count": null,
      "outputs": []
    },
    {
      "cell_type": "markdown",
      "source": [
        "##### 1. Why did you pick the specific chart?"
      ],
      "metadata": {
        "id": "1M8mcRywphqQ"
      }
    },
    {
      "cell_type": "markdown",
      "source": [
        "Answer Here."
      ],
      "metadata": {
        "id": "8agQvks0phqQ"
      }
    },
    {
      "cell_type": "markdown",
      "source": [
        "##### 2. What is/are the insight(s) found from the chart?"
      ],
      "metadata": {
        "id": "tgIPom80phqQ"
      }
    },
    {
      "cell_type": "markdown",
      "source": [
        "Answer Here"
      ],
      "metadata": {
        "id": "Qp13pnNzphqQ"
      }
    },
    {
      "cell_type": "markdown",
      "source": [
        "##### 3. Will the gained insights help creating a positive business impact?\n",
        "Are there any insights that lead to negative growth? Justify with specific reason."
      ],
      "metadata": {
        "id": "JMzcOPDDphqR"
      }
    },
    {
      "cell_type": "markdown",
      "source": [
        "Answer Here"
      ],
      "metadata": {
        "id": "R4Ka1PC2phqR"
      }
    },
    {
      "cell_type": "markdown",
      "source": [
        "#### Chart - 11"
      ],
      "metadata": {
        "id": "x-EpHcCOp1ci"
      }
    },
    {
      "cell_type": "code",
      "source": [
        "# Chart - 11 visualization code\n",
        "plt.figure(figsize = (12,5),dpi = 100 )\n",
        "hotel__wise_meal = df.groupby(['hotel','meal'])['meal'].count().unstack()\n",
        "hotel__wise_meal.plot(kind = 'bar',figsize = (12,5))\n",
        "plt.xlabel('Meal')\n",
        "plt.ylabel('Count')\n",
        "plt.title('Most Prefered Meal by Customers')\n",
        "plt.legend()\n",
        "hotel__wise_meal"
      ],
      "metadata": {
        "id": "mAQTIvtqp1cj"
      },
      "execution_count": null,
      "outputs": []
    },
    {
      "cell_type": "markdown",
      "source": [
        "##### 1. Why did you pick the specific chart?"
      ],
      "metadata": {
        "id": "X_VqEhTip1ck"
      }
    },
    {
      "cell_type": "markdown",
      "source": [
        "We use this chart to show the meal which is most prefered by cutomers in each hotel."
      ],
      "metadata": {
        "id": "-vsMzt_np1ck"
      }
    },
    {
      "cell_type": "markdown",
      "source": [
        "##### 2. What is/are the insight(s) found from the chart?"
      ],
      "metadata": {
        "id": "8zGJKyg5p1ck"
      }
    },
    {
      "cell_type": "markdown",
      "source": [
        "we can see the bb meal is much prefered by customer n both of hotels but when it comes to compare the hotel the city hotel have greater preferd customer insted of resort hotel ."
      ],
      "metadata": {
        "id": "ZYdMsrqVp1ck"
      }
    },
    {
      "cell_type": "markdown",
      "source": [
        "##### 3. Will the gained insights help creating a positive business impact?\n",
        "Are there any insights that lead to negative growth? Justify with specific reason."
      ],
      "metadata": {
        "id": "PVzmfK_Ep1ck"
      }
    },
    {
      "cell_type": "markdown",
      "source": [
        "Yes ,this chart can help to see the choice of preferd meal by customers , they can analyst this and make certain decision to get a profitable growth on their business ."
      ],
      "metadata": {
        "id": "druuKYZpp1ck"
      }
    },
    {
      "cell_type": "markdown",
      "source": [
        "#### Chart - 12"
      ],
      "metadata": {
        "id": "n3dbpmDWp1ck"
      }
    },
    {
      "cell_type": "code",
      "source": [
        "# Chart - 12 visualization code\n",
        "corr_df = df[['lead_time','previous_cancellations','previous_bookings_not_canceled','days_in_waiting_list','adr','required_car_parking_spaces','total_of_special_requests','booking_changes']].corr()\n",
        "f,ax = plt.subplots(figsize = (8,10))\n",
        "sns.heatmap(corr_df,annot = True ,fmt = '.2f',annot_kws = {'size': 10},vmax = 1,square = True,cmap = \"YlGnBu\")"
      ],
      "metadata": {
        "id": "bwevp1tKp1ck"
      },
      "execution_count": null,
      "outputs": []
    },
    {
      "cell_type": "markdown",
      "source": [
        "##### 1. Why did you pick the specific chart?"
      ],
      "metadata": {
        "id": "ylSl6qgtp1ck"
      }
    },
    {
      "cell_type": "markdown",
      "source": [
        "To show the correlation between numeric variables that the data set containes ."
      ],
      "metadata": {
        "id": "m2xqNkiQp1ck"
      }
    },
    {
      "cell_type": "markdown",
      "source": [
        "##### 2. What is/are the insight(s) found from the chart?"
      ],
      "metadata": {
        "id": "ZWILFDl5p1ck"
      }
    },
    {
      "cell_type": "markdown",
      "source": [
        "In this chart the highest correlation is 0.39 % and the lowest correlation is -0.9% ."
      ],
      "metadata": {
        "id": "x-lUsV2mp1ck"
      }
    },
    {
      "cell_type": "markdown",
      "source": [
        "## **5. Solution to Business Objective**"
      ],
      "metadata": {
        "id": "JcMwzZxoAimU"
      }
    },
    {
      "cell_type": "markdown",
      "source": [
        "#### What do you suggest the client to achieve Business Objective ?\n",
        "Explain Briefly."
      ],
      "metadata": {
        "id": "8G2x9gOozGDZ"
      }
    },
    {
      "cell_type": "markdown",
      "source": [
        "To achieve the business objective of optimizing hotel bookings and increasing revenue, the client should focus on several key strategies. First, analyzing booking patterns through data insights can reveal factors driving both bookings and cancellations, enabling the implementation of policies to manage or reduce cancellations effectively. Targeted marketing efforts based on customer segments can enhance conversion rates and revenue, with special attention given to segments showing higher booking rates or those needing refined approaches. Optimizing revenue management through dynamic pricing strategies, informed by factors like booking lead time and ADR relationships, can maximize revenue per booking. Improving customer experience by addressing reasons for cancellations and tailoring services to guest preferences will boost satisfaction and retention. Finally, continuous monitoring and adjustment of strategies based on performance metrics and emerging trends will ensure ongoing optimization and growth. By leveraging these insights, the client can enhance operational efficiency, improve customer satisfaction, and drive business growth."
      ],
      "metadata": {
        "id": "pASKb0qOza21"
      }
    },
    {
      "cell_type": "markdown",
      "source": [
        "# **Conclusion**"
      ],
      "metadata": {
        "id": "gCX9965dhzqZ"
      }
    },
    {
      "cell_type": "markdown",
      "source": [
        "In conclusion, leveraging data insights from the hotel booking dataset provides a powerful foundation for optimizing operations and achieving key business objectives. By analyzing booking patterns, targeting marketing efforts, and implementing dynamic pricing strategies, the client can enhance revenue and reduce cancellations. Improving customer experience through tailored services and addressing feedback will further drive satisfaction and loyalty. Continuous monitoring and adjustment of strategies based on performance metrics will ensure adaptability and ongoing growth. Embracing these data-driven strategies will enable the client to make informed decisions, improve operational efficiency, and ultimately achieve a competitive edge in the hotel industry."
      ],
      "metadata": {
        "id": "Fjb1IsQkh3yE"
      }
    },
    {
      "cell_type": "markdown",
      "source": [
        " ***Hurrah! You have successfully completed your EDA Capstone Project !!!***"
      ],
      "metadata": {
        "id": "gIfDvo9L0UH2"
      }
    }
  ]
}